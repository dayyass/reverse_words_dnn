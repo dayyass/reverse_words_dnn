{
 "cells": [
  {
   "cell_type": "code",
   "execution_count": 201,
   "metadata": {},
   "outputs": [],
   "source": [
    "import os\n",
    "from collections import Counter\n",
    "from typing import Counter as CounterType, Dict, List, Tuple\n",
    "\n",
    "import torch\n",
    "from nltk.tokenize import word_tokenize\n",
    "from tqdm import tqdm\n",
    "\n",
    "import matplotlib.pyplot as plt"
   ]
  },
  {
   "cell_type": "markdown",
   "metadata": {},
   "source": [
    "### Preapre Data"
   ]
  },
  {
   "cell_type": "markdown",
   "metadata": {},
   "source": [
    "#### Dataset"
   ]
  },
  {
   "cell_type": "code",
   "execution_count": 2,
   "metadata": {},
   "outputs": [],
   "source": [
    "class IMDBDataset(torch.utils.data.Dataset):\n",
    "    \n",
    "    def __init__(\n",
    "        self,\n",
    "        path_to_data: str,\n",
    "    ):\n",
    "        super().__init__()\n",
    "\n",
    "        self.path_to_data = path_to_data\n",
    "        self.dataset = self._prepare_dataset(path_to_data)\n",
    "\n",
    "    def __len__(self) -> int:\n",
    "        return len(self.dataset)\n",
    "\n",
    "    def __getitem__(\n",
    "        self,\n",
    "        idx: int,\n",
    "    ) -> List[str]:\n",
    "        return self.dataset[idx]\n",
    "\n",
    "    @staticmethod\n",
    "    def _prepare_dataset(path_to_data: str) -> List[List[str]]:\n",
    "        dataset = []\n",
    "\n",
    "        pos_dir = os.path.join(path_to_data, \"pos\")\n",
    "        neg_dir = os.path.join(path_to_data, \"neg\")\n",
    "        \n",
    "        for dir in [pos_dir, neg_dir]:\n",
    "            for filename in tqdm(\n",
    "                os.listdir(dir),\n",
    "                desc=\"parse txt files\",\n",
    "            ):\n",
    "                if not filename.endswith(\".txt\"):\n",
    "                    continue\n",
    "                with open(os.path.join(dir, filename), mode=\"r\") as fp:\n",
    "                    review = fp.read()\n",
    "                    dataset.append(word_tokenize(review.lower()))\n",
    "        return dataset"
   ]
  },
  {
   "cell_type": "code",
   "execution_count": 3,
   "metadata": {},
   "outputs": [
    {
     "name": "stderr",
     "output_type": "stream",
     "text": [
      "100%|██████████| 12500/12500 [00:36<00:00, 342.36it/s]\n",
      "100%|██████████| 12500/12500 [00:33<00:00, 368.81it/s]\n",
      "100%|██████████| 12500/12500 [00:34<00:00, 359.97it/s]\n",
      "100%|██████████| 12500/12500 [00:38<00:00, 328.76it/s]\n"
     ]
    }
   ],
   "source": [
    "train_dataset = IMDBDataset(path_to_data=\"data/aclImdb/train\")\n",
    "test_dataset = IMDBDataset(path_to_data=\"data/aclImdb/test\")"
   ]
  },
  {
   "cell_type": "code",
   "execution_count": 4,
   "metadata": {},
   "outputs": [
    {
     "data": {
      "text/plain": [
       "['for',\n",
       " 'a',\n",
       " 'movie',\n",
       " 'that',\n",
       " 'gets',\n",
       " 'no',\n",
       " 'respect',\n",
       " 'there',\n",
       " 'sure',\n",
       " 'are',\n",
       " 'a',\n",
       " 'lot',\n",
       " 'of',\n",
       " 'memorable',\n",
       " 'quotes',\n",
       " 'listed',\n",
       " 'for',\n",
       " 'this',\n",
       " 'gem',\n",
       " '.',\n",
       " 'imagine',\n",
       " 'a',\n",
       " 'movie',\n",
       " 'where',\n",
       " 'joe',\n",
       " 'piscopo',\n",
       " 'is',\n",
       " 'actually',\n",
       " 'funny',\n",
       " '!',\n",
       " 'maureen',\n",
       " 'stapleton',\n",
       " 'is',\n",
       " 'a',\n",
       " 'scene',\n",
       " 'stealer',\n",
       " '.',\n",
       " 'the',\n",
       " 'moroni',\n",
       " 'character',\n",
       " 'is',\n",
       " 'an',\n",
       " 'absolute',\n",
       " 'scream',\n",
       " '.',\n",
       " 'watch',\n",
       " 'for',\n",
       " 'alan',\n",
       " '``',\n",
       " 'the',\n",
       " 'skipper',\n",
       " \"''\",\n",
       " 'hale',\n",
       " 'jr.',\n",
       " 'as',\n",
       " 'a',\n",
       " 'police',\n",
       " 'sgt',\n",
       " '.']"
      ]
     },
     "execution_count": 4,
     "metadata": {},
     "output_type": "execute_result"
    }
   ],
   "source": [
    "train_dataset[0]"
   ]
  },
  {
   "cell_type": "markdown",
   "metadata": {},
   "source": [
    "#### Analysis"
   ]
  },
  {
   "cell_type": "code",
   "execution_count": 5,
   "metadata": {},
   "outputs": [],
   "source": [
    "train_dataset_len_distr = [len(review) for review in train_dataset]\n",
    "test_dataset_len_distr = [len(review) for review in test_dataset]"
   ]
  },
  {
   "cell_type": "code",
   "execution_count": 6,
   "metadata": {},
   "outputs": [
    {
     "data": {
      "image/png": "[encoded data removed]",
      "text/plain": [
       "<Figure size 432x288 with 1 Axes>"
      ]
     },
     "metadata": {
      "needs_background": "light"
     },
     "output_type": "display_data"
    }
   ],
   "source": [
    "plt.hist(\n",
    "    train_dataset_len_distr,\n",
    "    bins=len(set(train_dataset_len_distr)),\n",
    "    alpha=0.5,\n",
    "    label=\"train\",\n",
    ")\n",
    "plt.hist(\n",
    "    test_dataset_len_distr,\n",
    "    bins=len(set(test_dataset_len_distr)),\n",
    "    alpha=0.5,\n",
    "    label=\"test\",\n",
    ")\n",
    "plt.legend()\n",
    "plt.title(\"Review's length distribution\");"
   ]
  },
  {
   "cell_type": "code",
   "execution_count": 7,
   "metadata": {},
   "outputs": [
    {
     "data": {
      "text/plain": [
       "[(3, 22482), (2, 2132), (4, 386)]"
      ]
     },
     "execution_count": 7,
     "metadata": {},
     "output_type": "execute_result"
    }
   ],
   "source": [
    "train_dataset_n_digits_distr = Counter([len(str(length)) for length in train_dataset_len_distr])\n",
    "train_dataset_n_digits_distr.most_common()"
   ]
  },
  {
   "cell_type": "code",
   "execution_count": 8,
   "metadata": {},
   "outputs": [
    {
     "data": {
      "text/plain": [
       "[(3, 22372), (2, 2262), (4, 363), (1, 3)]"
      ]
     },
     "execution_count": 8,
     "metadata": {},
     "output_type": "execute_result"
    }
   ],
   "source": [
    "test_dataset_n_digits_distr = Counter([len(str(length)) for length in test_dataset_len_distr])\n",
    "test_dataset_n_digits_distr.most_common()"
   ]
  },
  {
   "cell_type": "markdown",
   "metadata": {},
   "source": [
    "#### Collator"
   ]
  },
  {
   "cell_type": "code",
   "execution_count": 9,
   "metadata": {},
   "outputs": [],
   "source": [
    "tokens_counter = Counter()\n",
    "\n",
    "for review in train_dataset:\n",
    "    tokens_counter.update(review)"
   ]
  },
  {
   "cell_type": "code",
   "execution_count": 10,
   "metadata": {},
   "outputs": [
    {
     "data": {
      "text/plain": [
       "(111836,\n",
       " [('the', 334840),\n",
       "  (',', 275887),\n",
       "  ('.', 234757),\n",
       "  ('and', 163477),\n",
       "  ('a', 162292)])"
      ]
     },
     "execution_count": 10,
     "metadata": {},
     "output_type": "execute_result"
    }
   ],
   "source": [
    "len(tokens_counter), tokens_counter.most_common(5)"
   ]
  },
  {
   "cell_type": "code",
   "execution_count": 170,
   "metadata": {},
   "outputs": [],
   "source": [
    "class Token2Idx:\n",
    "    \n",
    "    def __init__(\n",
    "        self,\n",
    "        tokens_counter: CounterType,\n",
    "        min_df: int,\n",
    "    ):\n",
    "        self.tokens_counter = tokens_counter\n",
    "        self.min_df = min_df\n",
    "\n",
    "        self.token2idx = self._prepare_token2idx(\n",
    "            tokens_counter=tokens_counter,\n",
    "            min_df=min_df,\n",
    "        )\n",
    "    \n",
    "    def __call__(\n",
    "        self,\n",
    "        seq: List[str],\n",
    "    ) -> torch.LongTensor:\n",
    "        return [self.token2idx.get(token, self.token2idx[\"<unk>\"]) for token in seq]\n",
    "    \n",
    "    def __getitem__(self, key: str) -> int:\n",
    "        return self.token2idx[key]\n",
    "\n",
    "    @staticmethod\n",
    "    def _prepare_token2idx(\n",
    "        tokens_counter: CounterType,\n",
    "        min_df: int,\n",
    "    ) -> Dict[str, int]:\n",
    "        token2idx = {\n",
    "            \"<bos>\": 0,\n",
    "            \"<eos>\": 1,\n",
    "            \"<unk>\": 2,\n",
    "            \"<pad>\": 3,\n",
    "        }\n",
    "\n",
    "        for token, cnt in tqdm(\n",
    "            tokens_counter.most_common(),\n",
    "            desc=\"loop over unique tokens\",\n",
    "        ):\n",
    "            if token in token2idx:\n",
    "                continue\n",
    "            if cnt < min_df:\n",
    "                continue\n",
    "\n",
    "            token2idx[token] = len(token2idx)\n",
    "        \n",
    "        return token2idx"
   ]
  },
  {
   "cell_type": "code",
   "execution_count": 171,
   "metadata": {},
   "outputs": [
    {
     "name": "stderr",
     "output_type": "stream",
     "text": [
      "loop over unique tokens: 100%|██████████| 111836/111836 [00:00<00:00, 1272351.97it/s]\n"
     ]
    }
   ],
   "source": [
    "token2idx = Token2Idx(\n",
    "    tokens_counter=tokens_counter,\n",
    "    min_df=5,\n",
    ")"
   ]
  },
  {
   "cell_type": "code",
   "execution_count": 172,
   "metadata": {},
   "outputs": [
    {
     "data": {
      "text/plain": [
       "31577"
      ]
     },
     "execution_count": 172,
     "metadata": {},
     "output_type": "execute_result"
    }
   ],
   "source": [
    "len(token2idx.token2idx)"
   ]
  },
  {
   "cell_type": "code",
   "execution_count": 173,
   "metadata": {},
   "outputs": [
    {
     "data": {
      "text/plain": [
       "[24,\n",
       " 8,\n",
       " 26,\n",
       " 20,\n",
       " 225,\n",
       " 73,\n",
       " 1174,\n",
       " 53,\n",
       " 263,\n",
       " 37,\n",
       " 8,\n",
       " 190,\n",
       " 9,\n",
       " 901,\n",
       " 4357,\n",
       " 3517,\n",
       " 24,\n",
       " 19,\n",
       " 1520,\n",
       " 6,\n",
       " 828,\n",
       " 8,\n",
       " 26,\n",
       " 134,\n",
       " 874,\n",
       " 14565,\n",
       " 11,\n",
       " 177,\n",
       " 182,\n",
       " 43,\n",
       " 7162,\n",
       " 15090,\n",
       " 11,\n",
       " 8,\n",
       " 156,\n",
       " 18872,\n",
       " 6,\n",
       " 4,\n",
       " 2,\n",
       " 124,\n",
       " 11,\n",
       " 48,\n",
       " 1512,\n",
       " 2013,\n",
       " 6,\n",
       " 125,\n",
       " 24,\n",
       " 1526,\n",
       " 35,\n",
       " 4,\n",
       " 18873,\n",
       " 34,\n",
       " 8602,\n",
       " 2130,\n",
       " 23,\n",
       " 8,\n",
       " 565,\n",
       " 6964,\n",
       " 6]"
      ]
     },
     "execution_count": 173,
     "metadata": {},
     "output_type": "execute_result"
    }
   ],
   "source": [
    "token2idx(train_dataset[0])"
   ]
  },
  {
   "cell_type": "code",
   "execution_count": 174,
   "metadata": {},
   "outputs": [
    {
     "name": "stderr",
     "output_type": "stream",
     "text": [
      "assertion loop: 100%|██████████| 25000/25000 [00:02<00:00, 8689.90it/s] \n",
      "assertion loop: 100%|██████████| 25000/25000 [00:03<00:00, 8208.12it/s]\n"
     ]
    }
   ],
   "source": [
    "for dataset in [train_dataset, test_dataset]:\n",
    "    for review in tqdm(\n",
    "        dataset,\n",
    "        desc=\"assertion loop\",\n",
    "    ):\n",
    "        assert len(review) == len(token2idx(review))"
   ]
  },
  {
   "cell_type": "code",
   "execution_count": 175,
   "metadata": {},
   "outputs": [],
   "source": [
    "class Collator:\n",
    "\n",
    "    def __init__(\n",
    "        self,\n",
    "        token2idx: Token2Idx,\n",
    "    ):\n",
    "        self.token2idx = token2idx\n",
    "    \n",
    "    def __call__(\n",
    "        self,\n",
    "        batch: List[List[str]],\n",
    "    ) -> torch.LongTensor:\n",
    "        tensor_seq = []\n",
    "        tensor_inv_seq = []\n",
    "        for seq in batch:\n",
    "            tokenized_seq = self.token2idx(seq)\n",
    "            tensor_seq.append(torch.LongTensor(tokenized_seq))\n",
    "\n",
    "            tokenized_inv_seq = [self.token2idx[\"<bos>\"]] + tokenized_seq[::-1] + [self.token2idx[\"<eos>\"]]\n",
    "            tensor_inv_seq.append(torch.LongTensor(tokenized_inv_seq))\n",
    "\n",
    "        padded_sequences =  torch.nn.utils.rnn.pad_sequence(\n",
    "            sequences=tensor_seq,\n",
    "            batch_first=True,\n",
    "            padding_value=self.token2idx[\"<pad>\"],\n",
    "        )\n",
    "        padded_inv_sequences =  torch.nn.utils.rnn.pad_sequence(\n",
    "            sequences=tensor_inv_seq,\n",
    "            batch_first=True,\n",
    "            padding_value=self.token2idx[\"<pad>\"],\n",
    "        )\n",
    "        return padded_sequences, padded_inv_sequences"
   ]
  },
  {
   "cell_type": "code",
   "execution_count": 176,
   "metadata": {},
   "outputs": [],
   "source": [
    "collator = Collator(token2idx=token2idx)"
   ]
  },
  {
   "cell_type": "markdown",
   "metadata": {},
   "source": [
    "#### DataLoader"
   ]
  },
  {
   "cell_type": "code",
   "execution_count": 177,
   "metadata": {},
   "outputs": [],
   "source": [
    "train_dataloader = torch.utils.data.DataLoader(\n",
    "    dataset=train_dataset,\n",
    "    batch_size=2,  # TODO\n",
    "    shuffle=True,\n",
    "    num_workers=0,\n",
    "    collate_fn=collator,\n",
    ")\n",
    "test_dataloader = torch.utils.data.DataLoader(\n",
    "    dataset=test_dataset,\n",
    "    batch_size=1,\n",
    "    shuffle=False,\n",
    "    num_workers=0,\n",
    "    collate_fn=collator,\n",
    ")"
   ]
  },
  {
   "cell_type": "code",
   "execution_count": 180,
   "metadata": {},
   "outputs": [
    {
     "data": {
      "text/plain": [
       "(torch.Size([2, 243]), torch.Size([2, 245]))"
      ]
     },
     "execution_count": 180,
     "metadata": {},
     "output_type": "execute_result"
    }
   ],
   "source": [
    "seq, inv_seq = next(iter(train_dataloader))\n",
    "seq.shape, inv_seq.shape"
   ]
  },
  {
   "cell_type": "code",
   "execution_count": 181,
   "metadata": {},
   "outputs": [
    {
     "data": {
      "text/plain": [
       "(torch.Size([1, 283]), torch.Size([1, 285]))"
      ]
     },
     "execution_count": 181,
     "metadata": {},
     "output_type": "execute_result"
    }
   ],
   "source": [
    "seq, inv_seq = next(iter(test_dataloader))\n",
    "seq.shape, inv_seq.shape"
   ]
  },
  {
   "cell_type": "markdown",
   "metadata": {},
   "source": [
    "### Seq2Seq LSTM"
   ]
  },
  {
   "cell_type": "code",
   "execution_count": 182,
   "metadata": {},
   "outputs": [
    {
     "data": {
      "text/plain": [
       "device(type='cpu')"
      ]
     },
     "execution_count": 182,
     "metadata": {},
     "output_type": "execute_result"
    }
   ],
   "source": [
    "device = torch.device(\"cuda\" if torch.cuda.is_available() else \"cpu\")\n",
    "device"
   ]
  },
  {
   "cell_type": "code",
   "execution_count": 183,
   "metadata": {},
   "outputs": [],
   "source": [
    "def number_of_parameters(model: torch.nn.Module) -> int:\n",
    "    return sum(p.numel() for p in model.parameters())"
   ]
  },
  {
   "cell_type": "code",
   "execution_count": 348,
   "metadata": {},
   "outputs": [],
   "source": [
    "class Seq2SeqLSTM(torch.nn.Module):\n",
    "    \n",
    "    def __init__(\n",
    "        self,\n",
    "        num_embeddings: int,\n",
    "        embedding_dim: int,\n",
    "        encoder_hidden_size: int,\n",
    "        encoder_num_layers: int,  # TODO: fix if > 1\n",
    "        encoder_dropout: float,\n",
    "        encoder_bidirectional: bool,\n",
    "        decoder_num_layers: int,  # TODO: fix if > 1\n",
    "        decoder_dropout: float,\n",
    "    ):\n",
    "        super().__init__()\n",
    "        self.embedding = torch.nn.Embedding(\n",
    "            num_embeddings=num_embeddings,\n",
    "            embedding_dim=embedding_dim,\n",
    "            padding_idx=token2idx[\"<pad>\"], # TODO: remove hardcode\n",
    "\n",
    "        )\n",
    "        self.encoder = torch.nn.LSTM(\n",
    "            input_size=embedding_dim,\n",
    "            hidden_size=encoder_hidden_size,\n",
    "            num_layers=encoder_num_layers,\n",
    "            dropout=encoder_dropout,\n",
    "            bidirectional=encoder_bidirectional,\n",
    "            batch_first=True,\n",
    "        )\n",
    "        decoder_hidden_size = encoder_hidden_size * (2 if encoder_bidirectional else 1)\n",
    "        self.decoder = torch.nn.LSTM(\n",
    "            input_size=embedding_dim,\n",
    "            hidden_size=decoder_hidden_size,\n",
    "            num_layers=decoder_num_layers,\n",
    "            dropout=decoder_dropout,\n",
    "            bidirectional=False,\n",
    "            batch_first=True,\n",
    "        )\n",
    "        self.head = torch.nn.Linear(\n",
    "            in_features=decoder_hidden_size,\n",
    "            out_features=num_embeddings,\n",
    "        )\n",
    "    \n",
    "    def forward(\n",
    "        self,\n",
    "        seq: torch.LongTensor,\n",
    "        inv_seq: torch.LongTensor,\n",
    "    ):\n",
    "        emb = self._embed(seq)\n",
    "        encoder_output, _ = self.encoder(emb)\n",
    "        skip_thoughts = self._get_skip_thoughts(encoder_output=encoder_output)\n",
    "\n",
    "        inv_emb = self._embed(inv_seq)\n",
    "        decoder_output, _ = self.decoder(inv_emb, (skip_thoughts, skip_thoughts))\n",
    "\n",
    "        decoder_output, _ = self._pad_packed_sequence(sequence=decoder_output)\n",
    "        logits = self.head(decoder_output)\n",
    "        return logits\n",
    "    \n",
    "    def _embed(\n",
    "        self,\n",
    "        seq: torch.LongTensor,\n",
    "    ) -> torch.nn.utils.rnn.PackedSequence:\n",
    "        emb = self.embedding(seq)\n",
    "        lengths = (seq != token2idx[\"<pad>\"]).sum(dim=1) # TODO: remove hardcode\n",
    "        return torch.nn.utils.rnn.pack_padded_sequence(\n",
    "            input=emb, lengths=lengths,\n",
    "            batch_first=True, enforce_sorted=False,\n",
    "        )\n",
    "    \n",
    "    @staticmethod\n",
    "    def _pad_packed_sequence(\n",
    "        sequence: torch.nn.utils.rnn.PackedSequence,\n",
    "    ) -> Tuple[torch.Tensor, torch.LongTensor]:\n",
    "        return torch.nn.utils.rnn.pad_packed_sequence(\n",
    "            sequence=sequence,\n",
    "            batch_first=True,\n",
    "            padding_value=token2idx[\"<pad>\"], # TODO: remove hardcode\n",
    "        )\n",
    "\n",
    "    @staticmethod\n",
    "    def _get_skip_thoughts(\n",
    "        encoder_output: torch.nn.utils.rnn.PackedSequence,\n",
    "    ) -> torch.Tensor:\n",
    "        encoder_output, lengths = Seq2SeqLSTM._pad_packed_sequence(sequence=encoder_output)\n",
    "        return torch.index_select(\n",
    "            input=encoder_output,\n",
    "            dim=1,\n",
    "            index=lengths - 1,\n",
    "        ).mean(dim=1).unsqueeze(dim=0)"
   ]
  },
  {
   "cell_type": "code",
   "execution_count": 349,
   "metadata": {},
   "outputs": [],
   "source": [
    "model = Seq2SeqLSTM(\n",
    "    num_embeddings=len(token2idx.token2idx),\n",
    "    embedding_dim=100,\n",
    "    encoder_hidden_size=128,\n",
    "    encoder_num_layers=1,\n",
    "    encoder_dropout=0,  # num_layers = 1\n",
    "    encoder_bidirectional=True,\n",
    "    decoder_num_layers=1,\n",
    "    decoder_dropout=0,  # num_layers = 1\n",
    ")"
   ]
  },
  {
   "cell_type": "code",
   "execution_count": 350,
   "metadata": {},
   "outputs": [
    {
     "data": {
      "text/plain": [
       "11875101"
      ]
     },
     "execution_count": 350,
     "metadata": {},
     "output_type": "execute_result"
    }
   ],
   "source": [
    "number_of_parameters(model)"
   ]
  },
  {
   "cell_type": "code",
   "execution_count": 351,
   "metadata": {},
   "outputs": [
    {
     "data": {
      "text/plain": [
       "torch.Size([2, 181, 31577])"
      ]
     },
     "execution_count": 351,
     "metadata": {},
     "output_type": "execute_result"
    }
   ],
   "source": [
    "model(*next(iter(train_dataloader))).shape"
   ]
  },
  {
   "cell_type": "code",
   "execution_count": null,
   "metadata": {},
   "outputs": [],
   "source": []
  }
 ],
 "metadata": {
  "kernelspec": {
   "display_name": "Python 3.7.5 ('venv': venv)",
   "language": "python",
   "name": "python3"
  },
  "language_info": {
   "codemirror_mode": {
    "name": "ipython",
    "version": 3
   },
   "file_extension": ".py",
   "mimetype": "text/x-python",
   "name": "python",
   "nbconvert_exporter": "python",
   "pygments_lexer": "ipython3",
   "version": "3.7.5"
  },
  "orig_nbformat": 4,
  "vscode": {
   "interpreter": {
    "hash": "657357e3c76d50bb191e51ab294f4ff9fbef969f799c39920a46f2649b2b9e52"
   }
  }
 },
 "nbformat": 4,
 "nbformat_minor": 2
}
